{
 "cells": [
  {
   "cell_type": "code",
   "execution_count": 33,
   "metadata": {},
   "outputs": [],
   "source": [
    "import pandas as pd\n",
    "import pickle\n",
    "import os\n",
    "import datetime"
   ]
  },
  {
   "cell_type": "code",
   "execution_count": 34,
   "metadata": {},
   "outputs": [],
   "source": [
    "if not os.path.exists('already-done.txt'):\n",
    "    already_done = []\n",
    "else:\n",
    "    already_done = list(set([int(x.replace(\"\\n\", \"\")) for x in open('already-done.txt','r').readlines()]))"
   ]
  },
  {
   "cell_type": "code",
   "execution_count": 35,
   "metadata": {},
   "outputs": [
    {
     "data": {
      "text/plain": [
       "[16110048,\n",
       " 16110147,\n",
       " 16110083,\n",
       " 16110020,\n",
       " 16110053,\n",
       " 16110119,\n",
       " 16110150,\n",
       " 16110091,\n",
       " 16110125,\n",
       " 16110062,\n",
       " 15110004,\n",
       " 16110100,\n",
       " 16110103,\n",
       " 16110136,\n",
       " 16110142,\n",
       " 16110047]"
      ]
     },
     "execution_count": 35,
     "metadata": {},
     "output_type": "execute_result"
    }
   ],
   "source": [
    "already_done"
   ]
  },
  {
   "cell_type": "code",
   "execution_count": 36,
   "metadata": {},
   "outputs": [],
   "source": [
    "df = pd.read_csv(\"/Users/nipun/Downloads/CS-Heroes - Sheet1.csv\")"
   ]
  },
  {
   "cell_type": "code",
   "execution_count": 37,
   "metadata": {},
   "outputs": [],
   "source": [
    "found_new = False\n",
    "while(not found_new):\n",
    "    sel = df.sample(n=1)['RollNo'].values[0]\n",
    "    if sel not in already_done:\n",
    "        found_new = True\n",
    "    else:\n",
    "        print(\"Looks like random is hard on: {}\".format(df[df['RollNo']==sel]['Student Name']))"
   ]
  },
  {
   "cell_type": "code",
   "execution_count": 38,
   "metadata": {},
   "outputs": [],
   "source": [
    "already_done.append(sel)\n"
   ]
  },
  {
   "cell_type": "code",
   "execution_count": 39,
   "metadata": {},
   "outputs": [],
   "source": [
    "with open('already-done.txt','w') as g:\n",
    "    for roll in already_done:\n",
    "        g.write(\"%d\\n\" %roll)"
   ]
  },
  {
   "cell_type": "code",
   "execution_count": 40,
   "metadata": {},
   "outputs": [
    {
     "name": "stdout",
     "output_type": "stream",
     "text": [
      "********************************************************************************\n",
      "The chosen one for 2018-09-18\n",
      "********************************************************************************\n",
      "      RollNo Student Name                 Email Id\n",
      "15  16110084  Kunal Verma  kunal.verma@iitgn.ac.in\n",
      "********************************************************************************\n"
     ]
    }
   ],
   "source": [
    "print(\"*\"*80)\n",
    "tom = datetime.date.today() + datetime.timedelta(days=1)\n",
    "print(\"The chosen one for {}\".format(tom))\n",
    "print(\"*\"*80)\n",
    "print(df[df['RollNo']==sel][['RollNo','Student Name', 'Email Id']])\n",
    "print(\"*\"*80)"
   ]
  },
  {
   "cell_type": "code",
   "execution_count": null,
   "metadata": {},
   "outputs": [],
   "source": []
  }
 ],
 "metadata": {
  "kernelspec": {
   "display_name": "Python 3",
   "language": "python",
   "name": "python3"
  },
  "language_info": {
   "codemirror_mode": {
    "name": "ipython",
    "version": 3
   },
   "file_extension": ".py",
   "mimetype": "text/x-python",
   "name": "python",
   "nbconvert_exporter": "python",
   "pygments_lexer": "ipython3",
   "version": "3.6.5"
  }
 },
 "nbformat": 4,
 "nbformat_minor": 2
}
