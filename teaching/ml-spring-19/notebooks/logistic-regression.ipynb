{
 "cells": [
  {
   "cell_type": "code",
   "execution_count": 3,
   "metadata": {},
   "outputs": [],
   "source": [
    "import pandas as pd\n",
    "import numpy as np"
   ]
  },
  {
   "cell_type": "code",
   "execution_count": 4,
   "metadata": {},
   "outputs": [],
   "source": [
    "data = np.array([[0, 0], [0.1, 0], [0.2, 0], [0.7, 1], [0.8, 1]])"
   ]
  },
  {
   "cell_type": "code",
   "execution_count": 5,
   "metadata": {},
   "outputs": [],
   "source": [
    "from sklearn.linear_model import LogisticRegression"
   ]
  },
  {
   "cell_type": "code",
   "execution_count": 6,
   "metadata": {},
   "outputs": [],
   "source": [
    "lr = LogisticRegression()"
   ]
  },
  {
   "cell_type": "code",
   "execution_count": 8,
   "metadata": {},
   "outputs": [
    {
     "data": {
      "text/plain": [
       "LogisticRegression(C=1.0, class_weight=None, dual=False, fit_intercept=True,\n",
       "          intercept_scaling=1, max_iter=100, multi_class='ovr', n_jobs=1,\n",
       "          penalty='l2', random_state=None, solver='liblinear', tol=0.0001,\n",
       "          verbose=0, warm_start=False)"
      ]
     },
     "execution_count": 8,
     "metadata": {},
     "output_type": "execute_result"
    }
   ],
   "source": [
    "lr.fit(data[:, 0].reshape(-1, 1), data[:, 1])"
   ]
  },
  {
   "cell_type": "code",
   "execution_count": 10,
   "metadata": {},
   "outputs": [
    {
     "data": {
      "text/plain": [
       "array([[0.58110749]])"
      ]
     },
     "execution_count": 10,
     "metadata": {},
     "output_type": "execute_result"
    }
   ],
   "source": [
    "lr.coef_"
   ]
  },
  {
   "cell_type": "code",
   "execution_count": 11,
   "metadata": {},
   "outputs": [
    {
     "data": {
      "text/plain": [
       "array([-0.3390851])"
      ]
     },
     "execution_count": 11,
     "metadata": {},
     "output_type": "execute_result"
    }
   ],
   "source": [
    "lr.intercept_"
   ]
  },
  {
   "cell_type": "code",
   "execution_count": 18,
   "metadata": {},
   "outputs": [],
   "source": [
    "import matplotlib.pyplot as plt\n",
    "from matplotlib import cm"
   ]
  },
  {
   "cell_type": "code",
   "execution_count": 13,
   "metadata": {},
   "outputs": [],
   "source": [
    "%matplotlib inline"
   ]
  },
  {
   "cell_type": "code",
   "execution_count": 30,
   "metadata": {},
   "outputs": [
    {
     "data": {
      "text/plain": [
       "<matplotlib.lines.Line2D at 0xaf5d668>"
      ]
     },
     "execution_count": 30,
     "metadata": {},
     "output_type": "execute_result"
    },
    {
     "data": {
      "image/png": "[encoded data removed]",
      "text/plain": [
       "<Figure size 432x288 with 1 Axes>"
      ]
     },
     "metadata": {},
     "output_type": "display_data"
    }
   ],
   "source": [
    "plt.scatter(data[:, 0], data[:, 1], c=data[:, 1], cmap=cm.viridis)\n",
    "plt.axvline(-lr.intercept_[0]/lr.coef_[0])\n"
   ]
  },
  {
   "cell_type": "code",
   "execution_count": 38,
   "metadata": {},
   "outputs": [],
   "source": [
    "x_ = np.linspace(0, 1.1, 200)\n",
    "sigm_x = 1/(1+np.exp(-(x_*lr.intercept_[0]+lr.coef_[0])))"
   ]
  },
  {
   "cell_type": "code",
   "execution_count": 39,
   "metadata": {},
   "outputs": [
    {
     "data": {
      "text/plain": [
       "[<matplotlib.lines.Line2D at 0xc040940>]"
      ]
     },
     "execution_count": 39,
     "metadata": {},
     "output_type": "execute_result"
    },
    {
     "data": {
      "image/png": "[encoded data removed]",
      "text/plain": [
       "<Figure size 432x288 with 1 Axes>"
      ]
     },
     "metadata": {},
     "output_type": "display_data"
    }
   ],
   "source": [
    "plt.plot(x_, sigm_x)"
   ]
  },
  {
   "cell_type": "code",
   "execution_count": 37,
   "metadata": {},
   "outputs": [
    {
     "data": {
      "text/plain": [
       "array([0.3586778 , 0.35910907, 0.35954056, 0.35997228, 0.36040422,\n",
       "       0.3608364 , 0.3612688 , 0.36170142, 0.36213427, 0.36256734,\n",
       "       0.36300063, 0.36343415, 0.36386789, 0.36430185, 0.36473603,\n",
       "       0.36517043, 0.36560505, 0.36603989, 0.36647495, 0.36691023,\n",
       "       0.36734572, 0.36778143, 0.36821736, 0.3686535 , 0.36908985,\n",
       "       0.36952642, 0.36996321, 0.3704002 , 0.37083741, 0.37127484,\n",
       "       0.37171247, 0.37215031, 0.37258836, 0.37302662, 0.3734651 ,\n",
       "       0.37390377, 0.37434266, 0.37478175, 0.37522105, 0.37566056,\n",
       "       0.37610027, 0.37654018, 0.3769803 , 0.37742062, 0.37786114,\n",
       "       0.37830186, 0.37874279, 0.37918392, 0.37962524, 0.38006677,\n",
       "       0.38050849, 0.38095041, 0.38139253, 0.38183485, 0.38227736,\n",
       "       0.38272006, 0.38316297, 0.38360606, 0.38404935, 0.38449283,\n",
       "       0.38493651, 0.38538037, 0.38582443, 0.38626867, 0.38671311,\n",
       "       0.38715773, 0.38760254, 0.38804754, 0.38849273, 0.3889381 ,\n",
       "       0.38938366, 0.3898294 , 0.39027533, 0.39072144, 0.39116773,\n",
       "       0.39161421, 0.39206087, 0.3925077 , 0.39295472, 0.39340192,\n",
       "       0.39384929, 0.39429685, 0.39474458, 0.39519249, 0.39564057,\n",
       "       0.39608883, 0.39653726, 0.39698587, 0.39743465, 0.39788361,\n",
       "       0.39833273, 0.39878203, 0.3992315 , 0.39968113, 0.40013094,\n",
       "       0.40058091, 0.40103106, 0.40148137, 0.40193184, 0.40238248,\n",
       "       0.40283329, 0.40328426, 0.40373539, 0.40418669, 0.40463815,\n",
       "       0.40508977, 0.40554155, 0.40599349, 0.40644559, 0.40689785,\n",
       "       0.40735027, 0.40780284, 0.40825557, 0.40870846, 0.4091615 ,\n",
       "       0.4096147 , 0.41006805, 0.41052155, 0.4109752 , 0.41142901,\n",
       "       0.41188297, 0.41233707, 0.41279133, 0.41324573, 0.41370028,\n",
       "       0.41415498, 0.41460983, 0.41506482, 0.41551995, 0.41597523,\n",
       "       0.41643066, 0.41688622, 0.41734193, 0.41779778, 0.41825377,\n",
       "       0.4187099 , 0.41916617, 0.41962258, 0.42007912, 0.4205358 ,\n",
       "       0.42099262, 0.42144957, 0.42190666, 0.42236388, 0.42282123,\n",
       "       0.42327872, 0.42373634, 0.42419409, 0.42465196, 0.42510997,\n",
       "       0.42556811, 0.42602637, 0.42648477, 0.42694328, 0.42740193,\n",
       "       0.4278607 , 0.42831959, 0.42877861, 0.42923774, 0.429697  ,\n",
       "       0.43015639, 0.43061589, 0.43107551, 0.43153525, 0.43199511,\n",
       "       0.43245508, 0.43291517, 0.43337538, 0.4338357 , 0.43429614,\n",
       "       0.43475669, 0.43521735, 0.43567813, 0.43613901, 0.43660001,\n",
       "       0.43706111, 0.43752233, 0.43798365, 0.43844508, 0.43890662,\n",
       "       0.43936826, 0.43983001, 0.44029186, 0.44075381, 0.44121587,\n",
       "       0.44167803, 0.44214029, 0.44260265, 0.44306511, 0.44352766,\n",
       "       0.44399032, 0.44445307, 0.44491592, 0.44537887, 0.44584191,\n",
       "       0.44630504, 0.44676827, 0.44723159, 0.447695  , 0.4481585 ])"
      ]
     },
     "execution_count": 37,
     "metadata": {},
     "output_type": "execute_result"
    }
   ],
   "source": [
    "sigm_x"
   ]
  },
  {
   "cell_type": "code",
   "execution_count": null,
   "metadata": {},
   "outputs": [],
   "source": []
  }
 ],
 "metadata": {
  "kernelspec": {
   "display_name": "Python 3",
   "language": "python",
   "name": "python3"
  },
  "language_info": {
   "codemirror_mode": {
    "name": "ipython",
    "version": 3
   },
   "file_extension": ".py",
   "mimetype": "text/x-python",
   "name": "python",
   "nbconvert_exporter": "python",
   "pygments_lexer": "ipython3",
   "version": "3.6.5"
  }
 },
 "nbformat": 4,
 "nbformat_minor": 2
}
