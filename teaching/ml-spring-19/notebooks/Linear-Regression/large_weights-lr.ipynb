{
 "cells": [
  {
   "cell_type": "markdown",
   "metadata": {},
   "source": [
    "### Large weights in Linear Regression\n",
    "\n",
    "Inspired by UW course\n",
    "\n",
    "$y = \\sin(4x)$:"
   ]
  },
  {
   "cell_type": "code",
   "execution_count": 14,
   "metadata": {},
   "outputs": [],
   "source": [
    "import numpy as np\n",
    "from matplotlib import pyplot as plt\n",
    "import pandas as pd\n",
    "%matplotlib inline"
   ]
  },
  {
   "cell_type": "markdown",
   "metadata": {},
   "source": [
    "Create random values for x in interval [0,1)"
   ]
  },
  {
   "cell_type": "code",
   "execution_count": 10,
   "metadata": {},
   "outputs": [
    {
     "data": {
      "text/plain": [
       "array([-1.1247867 , -0.64075899, -0.43056543, -0.37629431, -0.32698029,\n",
       "       -0.09038786, -0.08246876, -0.06668439, -0.04547578,  0.02016012,\n",
       "        0.05360712,  0.06346218,  0.1379302 ,  0.14700899,  0.17629977,\n",
       "        0.18089995,  0.1955556 ,  0.28796884,  0.33529515,  0.38085007,\n",
       "        0.4185864 ,  0.43120872,  0.64071838,  0.64736459,  0.65825577,\n",
       "        0.67530613,  0.77719958,  0.82280171,  0.98728434,  1.        ])"
      ]
     },
     "execution_count": 10,
     "metadata": {},
     "output_type": "execute_result"
    }
   ],
   "source": [
    "np.random.seed(0)\n",
    "n = 30\n",
    "x = np.random.randn(n)/x.max()\n",
    "x.sort()\n",
    "x"
   ]
  },
  {
   "cell_type": "markdown",
   "metadata": {},
   "source": [
    "Compute y"
   ]
  },
  {
   "cell_type": "code",
   "execution_count": 18,
   "metadata": {},
   "outputs": [],
   "source": [
    "y =np.sin(4*x)"
   ]
  },
  {
   "cell_type": "markdown",
   "metadata": {},
   "source": [
    "Add random Gaussian noise to y"
   ]
  },
  {
   "cell_type": "code",
   "execution_count": 22,
   "metadata": {},
   "outputs": [],
   "source": [
    "np.random.seed(0)\n",
    "e = np.random.randn(n)/5\n",
    "y = y + e"
   ]
  },
  {
   "cell_type": "markdown",
   "metadata": {},
   "source": [
    "### Put data into an SFrame to manipulate later"
   ]
  },
  {
   "cell_type": "code",
   "execution_count": 23,
   "metadata": {},
   "outputs": [
    {
     "data": {
      "text/html": [
       "<div>\n",
       "<style scoped>\n",
       "    .dataframe tbody tr th:only-of-type {\n",
       "        vertical-align: middle;\n",
       "    }\n",
       "\n",
       "    .dataframe tbody tr th {\n",
       "        vertical-align: top;\n",
       "    }\n",
       "\n",
       "    .dataframe thead th {\n",
       "        text-align: right;\n",
       "    }\n",
       "</style>\n",
       "<table border=\"1\" class=\"dataframe\">\n",
       "  <thead>\n",
       "    <tr style=\"text-align: right;\">\n",
       "      <th></th>\n",
       "      <th>X1</th>\n",
       "      <th>Y</th>\n",
       "    </tr>\n",
       "  </thead>\n",
       "  <tbody>\n",
       "    <tr>\n",
       "      <th>0</th>\n",
       "      <td>-1.124787</td>\n",
       "      <td>1.506566</td>\n",
       "    </tr>\n",
       "    <tr>\n",
       "      <th>1</th>\n",
       "      <td>-0.640759</td>\n",
       "      <td>-0.426769</td>\n",
       "    </tr>\n",
       "    <tr>\n",
       "      <th>2</th>\n",
       "      <td>-0.430565</td>\n",
       "      <td>-0.694930</td>\n",
       "    </tr>\n",
       "    <tr>\n",
       "      <th>3</th>\n",
       "      <td>-0.376294</td>\n",
       "      <td>-0.325580</td>\n",
       "    </tr>\n",
       "    <tr>\n",
       "      <th>4</th>\n",
       "      <td>-0.326980</td>\n",
       "      <td>-0.405379</td>\n",
       "    </tr>\n",
       "    <tr>\n",
       "      <th>5</th>\n",
       "      <td>-0.090388</td>\n",
       "      <td>-0.646909</td>\n",
       "    </tr>\n",
       "    <tr>\n",
       "      <th>6</th>\n",
       "      <td>-0.082469</td>\n",
       "      <td>-0.038898</td>\n",
       "    </tr>\n",
       "    <tr>\n",
       "      <th>7</th>\n",
       "      <td>-0.066684</td>\n",
       "      <td>-0.308993</td>\n",
       "    </tr>\n",
       "    <tr>\n",
       "      <th>8</th>\n",
       "      <td>-0.045476</td>\n",
       "      <td>-0.211867</td>\n",
       "    </tr>\n",
       "    <tr>\n",
       "      <th>9</th>\n",
       "      <td>0.020160</td>\n",
       "      <td>0.203733</td>\n",
       "    </tr>\n",
       "    <tr>\n",
       "      <th>10</th>\n",
       "      <td>0.053607</td>\n",
       "      <td>0.256002</td>\n",
       "    </tr>\n",
       "    <tr>\n",
       "      <th>11</th>\n",
       "      <td>0.063462</td>\n",
       "      <td>0.687413</td>\n",
       "    </tr>\n",
       "    <tr>\n",
       "      <th>12</th>\n",
       "      <td>0.137930</td>\n",
       "      <td>0.752465</td>\n",
       "    </tr>\n",
       "    <tr>\n",
       "      <th>13</th>\n",
       "      <td>0.147009</td>\n",
       "      <td>0.591230</td>\n",
       "    </tr>\n",
       "    <tr>\n",
       "      <th>14</th>\n",
       "      <td>0.176300</td>\n",
       "      <td>0.781344</td>\n",
       "    </tr>\n",
       "    <tr>\n",
       "      <th>15</th>\n",
       "      <td>0.180900</td>\n",
       "      <td>0.762189</td>\n",
       "    </tr>\n",
       "    <tr>\n",
       "      <th>16</th>\n",
       "      <td>0.195556</td>\n",
       "      <td>1.153081</td>\n",
       "    </tr>\n",
       "    <tr>\n",
       "      <th>17</th>\n",
       "      <td>0.287969</td>\n",
       "      <td>0.851981</td>\n",
       "    </tr>\n",
       "    <tr>\n",
       "      <th>18</th>\n",
       "      <td>0.335295</td>\n",
       "      <td>1.067674</td>\n",
       "    </tr>\n",
       "    <tr>\n",
       "      <th>19</th>\n",
       "      <td>0.380850</td>\n",
       "      <td>0.742648</td>\n",
       "    </tr>\n",
       "    <tr>\n",
       "      <th>20</th>\n",
       "      <td>0.418586</td>\n",
       "      <td>0.228747</td>\n",
       "    </tr>\n",
       "    <tr>\n",
       "      <th>21</th>\n",
       "      <td>0.431209</td>\n",
       "      <td>1.184245</td>\n",
       "    </tr>\n",
       "    <tr>\n",
       "      <th>22</th>\n",
       "      <td>0.640718</td>\n",
       "      <td>0.806283</td>\n",
       "    </tr>\n",
       "    <tr>\n",
       "      <th>23</th>\n",
       "      <td>0.647365</td>\n",
       "      <td>0.301856</td>\n",
       "    </tr>\n",
       "    <tr>\n",
       "      <th>24</th>\n",
       "      <td>0.658256</td>\n",
       "      <td>1.167855</td>\n",
       "    </tr>\n",
       "    <tr>\n",
       "      <th>25</th>\n",
       "      <td>0.675306</td>\n",
       "      <td>-0.010037</td>\n",
       "    </tr>\n",
       "    <tr>\n",
       "      <th>26</th>\n",
       "      <td>0.777200</td>\n",
       "      <td>0.046516</td>\n",
       "    </tr>\n",
       "    <tr>\n",
       "      <th>27</th>\n",
       "      <td>0.822802</td>\n",
       "      <td>-0.205212</td>\n",
       "    </tr>\n",
       "    <tr>\n",
       "      <th>28</th>\n",
       "      <td>0.987284</td>\n",
       "      <td>-0.262758</td>\n",
       "    </tr>\n",
       "    <tr>\n",
       "      <th>29</th>\n",
       "      <td>1.000000</td>\n",
       "      <td>-0.315995</td>\n",
       "    </tr>\n",
       "  </tbody>\n",
       "</table>\n",
       "</div>"
      ],
      "text/plain": [
       "          X1         Y\n",
       "0  -1.124787  1.506566\n",
       "1  -0.640759 -0.426769\n",
       "2  -0.430565 -0.694930\n",
       "3  -0.376294 -0.325580\n",
       "4  -0.326980 -0.405379\n",
       "5  -0.090388 -0.646909\n",
       "6  -0.082469 -0.038898\n",
       "7  -0.066684 -0.308993\n",
       "8  -0.045476 -0.211867\n",
       "9   0.020160  0.203733\n",
       "10  0.053607  0.256002\n",
       "11  0.063462  0.687413\n",
       "12  0.137930  0.752465\n",
       "13  0.147009  0.591230\n",
       "14  0.176300  0.781344\n",
       "15  0.180900  0.762189\n",
       "16  0.195556  1.153081\n",
       "17  0.287969  0.851981\n",
       "18  0.335295  1.067674\n",
       "19  0.380850  0.742648\n",
       "20  0.418586  0.228747\n",
       "21  0.431209  1.184245\n",
       "22  0.640718  0.806283\n",
       "23  0.647365  0.301856\n",
       "24  0.658256  1.167855\n",
       "25  0.675306 -0.010037\n",
       "26  0.777200  0.046516\n",
       "27  0.822802 -0.205212\n",
       "28  0.987284 -0.262758\n",
       "29  1.000000 -0.315995"
      ]
     },
     "execution_count": 23,
     "metadata": {},
     "output_type": "execute_result"
    }
   ],
   "source": [
    "data = pd.DataFrame({'X1':x,'Y':y})\n",
    "data"
   ]
  },
  {
   "cell_type": "markdown",
   "metadata": {},
   "source": [
    "### Create a function to plot the data, since we'll do it many times"
   ]
  },
  {
   "cell_type": "code",
   "execution_count": 24,
   "metadata": {},
   "outputs": [
    {
     "data": {
      "image/png": "[encoded data removed]",
      "text/plain": [
       "<Figure size 432x288 with 1 Axes>"
      ]
     },
     "metadata": {},
     "output_type": "display_data"
    }
   ],
   "source": [
    "def plot_data(data):    \n",
    "    plt.plot(data['X1'],data['Y'],'k.')\n",
    "    plt.xlabel('x')\n",
    "    plt.ylabel('y')\n",
    "\n",
    "plot_data(data)"
   ]
  },
  {
   "cell_type": "markdown",
   "metadata": {},
   "source": [
    "## Define some useful polynomial regression functions"
   ]
  },
  {
   "cell_type": "code",
   "execution_count": 69,
   "metadata": {},
   "outputs": [
    {
     "name": "stdout",
     "output_type": "stream",
     "text": [
      "           100             99             98             97\n",
      "1.709e+05 x   - 5.869e+04 x  + 2.312e+05 x  - 5.409e+04 x \n",
      "              96             95             94        93             92\n",
      " + 3.167e+05 x  - 4.271e+04 x  + 4.369e+05 x  - 8427 x  + 6.075e+05 x \n",
      "             91             90             89             88\n",
      " + 5.66e+04 x  + 8.517e+05 x  + 1.733e+05 x  + 1.202e+06 x \n",
      "              87             86             85             84\n",
      " + 3.713e+05 x  + 1.706e+06 x  + 6.957e+05 x  + 2.433e+06 x \n",
      "              83            82            81             80\n",
      " + 1.213e+06 x  + 3.48e+06 x  + 2.02e+06 x  + 4.987e+06 x \n",
      "              79             78             77             76\n",
      " + 3.256e+06 x  + 7.147e+06 x  + 5.116e+06 x  + 1.022e+07 x \n",
      "              75             74             73             72\n",
      " + 7.864e+06 x  + 1.456e+07 x  + 1.185e+07 x  + 2.061e+07 x \n",
      "              71             70             69             68\n",
      " + 1.749e+07 x  + 2.891e+07 x  + 2.529e+07 x  + 4.004e+07 x \n",
      "             67            66             65             64\n",
      " + 3.57e+07 x  + 5.45e+07 x  + 4.898e+07 x  + 7.249e+07 x \n",
      "              63             62             61             60\n",
      " + 6.486e+07 x  + 9.342e+07 x  + 8.187e+07 x  + 1.152e+08 x \n",
      "              59             58             57             56\n",
      " + 9.642e+07 x  + 1.328e+08 x  + 1.014e+08 x  + 1.372e+08 x \n",
      "              55             54            53             52\n",
      " + 8.439e+07 x  + 1.134e+08 x  + 2.68e+07 x  + 4.026e+07 x \n",
      "              51             50             49             48\n",
      " - 9.561e+07 x  - 1.066e+08 x  - 3.061e+08 x  - 3.436e+08 x \n",
      "              47             46             45             44\n",
      " - 6.101e+08 x  - 6.547e+08 x  - 9.623e+08 x  - 9.505e+08 x \n",
      "             43             42             41             40\n",
      " - 1.22e+09 x  - 1.022e+09 x  - 1.108e+09 x  - 5.337e+08 x \n",
      "            39             38             37             36\n",
      " - 2.7e+08 x  + 8.324e+08 x  + 1.465e+09 x  + 2.959e+09 x \n",
      "              35             34             33            32\n",
      " + 3.506e+09 x  + 4.623e+09 x  + 3.906e+09 x  + 3.27e+09 x \n",
      "              31             30             29             28\n",
      " - 4.093e+07 x  - 3.035e+09 x  - 8.059e+09 x  - 1.025e+10 x \n",
      "              27             26             25             24\n",
      " - 1.112e+10 x  - 5.412e+09 x  + 4.065e+09 x  + 1.566e+10 x \n",
      "              23             22             21             20\n",
      " + 2.417e+10 x  + 1.253e+10 x  - 1.524e+08 x  - 4.743e+10 x \n",
      "              19             18             17             16\n",
      " - 1.317e+10 x  - 3.089e+10 x  + 1.155e+11 x  - 1.935e+10 x \n",
      "              15             14             13             12\n",
      " - 7.773e+10 x  + 3.851e+10 x  + 1.286e+10 x  - 1.236e+10 x \n",
      "              11             10             9             8\n",
      " + 7.723e+08 x  + 1.357e+09 x  - 3.267e+08 x - 2.994e+07 x\n",
      "              7             6             5             4        3\n",
      " + 1.923e+07 x - 2.072e+06 x - 1.825e+04 x + 1.693e+04 x - 1384 x\n",
      "          2\n",
      " + 17.64 x + 10.17 x - 0.01803\n"
     ]
    },
    {
     "name": "stderr",
     "output_type": "stream",
     "text": [
      "/Users/nipun/anaconda3/lib/python3.6/site-packages/ipykernel_launcher.py:2: RankWarning: Polyfit may be poorly conditioned\n",
      "  \n"
     ]
    },
    {
     "data": {
      "text/plain": [
       "[<matplotlib.lines.Line2D at 0x1204dbd68>]"
      ]
     },
     "execution_count": 69,
     "metadata": {},
     "output_type": "execute_result"
    },
    {
     "data": {
      "image/png": "[encoded data removed]",
      "text/plain": [
       "<Figure size 432x288 with 1 Axes>"
      ]
     },
     "metadata": {},
     "output_type": "display_data"
    }
   ],
   "source": [
    "plt.scatter(x, y)\n",
    "f = np.poly1d(np.polyfit(x, y, 100))\n",
    "print(f)\n",
    "plt.plot(x, f(x), 'k')"
   ]
  }
 ],
 "metadata": {
  "kernelspec": {
   "display_name": "Python 3",
   "language": "python",
   "name": "python3"
  },
  "language_info": {
   "codemirror_mode": {
    "name": "ipython",
    "version": 3
   },
   "file_extension": ".py",
   "mimetype": "text/x-python",
   "name": "python",
   "nbconvert_exporter": "python",
   "pygments_lexer": "ipython3",
   "version": "3.6.5"
  }
 },
 "nbformat": 4,
 "nbformat_minor": 1
}
